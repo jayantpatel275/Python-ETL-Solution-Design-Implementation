{
  "nbformat": 4,
  "nbformat_minor": 0,
  "metadata": {
    "colab": {
      "name": "CA-2 (10559429).ipynb",
      "provenance": [],
      "collapsed_sections": []
    },
    "kernelspec": {
      "name": "python3",
      "display_name": "Python 3"
    },
    "language_info": {
      "name": "python"
    }
  },
  "cells": [
    {
      "cell_type": "markdown",
      "metadata": {
        "id": "WA-ob-ddM-Up"
      },
      "source": [
        "**Programming for Data Analytics Assesment (CA - 2)**\n",
        "\n",
        "Google Colab is use for all problems \n",
        "\n",
        "Name : Jayant Patel   \n",
        "Student No : 10559429"
      ]
    },
    {
      "cell_type": "code",
      "metadata": {
        "id": "dY9lNxt4YmDl"
      },
      "source": [
        "# Connection with google drive \n",
        "from google.colab import drive\n",
        "drive.mount('/content/drive')"
      ],
      "execution_count": null,
      "outputs": []
    },
    {
      "cell_type": "code",
      "metadata": {
        "id": "vL7jAo1EbX9O",
        "colab": {
          "base_uri": "https://localhost:8080/",
          "height": 402
        },
        "outputId": "e60de8ef-7a51-49f6-c0c6-75f7ecbba2ee"
      },
      "source": [
        "# Inserting data into dataframe \n",
        "import pandas as pd\n",
        "path=\"/content/drive/MyDrive/Python Assessment /FireBrigadeAndAmbulanceCallOuts.csv\"\n",
        "df=pd.read_csv(path)\n",
        "# Displying Data \n",
        "display(df)"
      ],
      "execution_count": 73,
      "outputs": [
        {
          "output_type": "display_data",
          "data": {
            "text/html": [
              "<div>\n",
              "<style scoped>\n",
              "    .dataframe tbody tr th:only-of-type {\n",
              "        vertical-align: middle;\n",
              "    }\n",
              "\n",
              "    .dataframe tbody tr th {\n",
              "        vertical-align: top;\n",
              "    }\n",
              "\n",
              "    .dataframe thead th {\n",
              "        text-align: right;\n",
              "    }\n",
              "</style>\n",
              "<table border=\"1\" class=\"dataframe\">\n",
              "  <thead>\n",
              "    <tr style=\"text-align: right;\">\n",
              "      <th></th>\n",
              "      <th>Date</th>\n",
              "      <th>Station Area</th>\n",
              "      <th>Description</th>\n",
              "      <th>TOC</th>\n",
              "      <th>ORD</th>\n",
              "      <th>MOB</th>\n",
              "      <th>IA</th>\n",
              "      <th>LS</th>\n",
              "      <th>AH</th>\n",
              "      <th>MAV</th>\n",
              "      <th>CD</th>\n",
              "    </tr>\n",
              "  </thead>\n",
              "  <tbody>\n",
              "    <tr>\n",
              "      <th>0</th>\n",
              "      <td>01/01/2013</td>\n",
              "      <td>Rathfarnham</td>\n",
              "      <td>S/S OTHER</td>\n",
              "      <td>01:27:19</td>\n",
              "      <td>01:28:58</td>\n",
              "      <td>01:30:47</td>\n",
              "      <td>01:58:54</td>\n",
              "      <td>02:08:54</td>\n",
              "      <td>02:28:54</td>\n",
              "      <td>02:48:54</td>\n",
              "      <td>03:08:54</td>\n",
              "    </tr>\n",
              "    <tr>\n",
              "      <th>1</th>\n",
              "      <td>01/01/2013</td>\n",
              "      <td>Tallaght</td>\n",
              "      <td>Fire CAR</td>\n",
              "      <td>01:49:57</td>\n",
              "      <td>01:50:40</td>\n",
              "      <td>01:51:47</td>\n",
              "      <td>01:55:43</td>\n",
              "      <td>02:05:43</td>\n",
              "      <td>02:25:43</td>\n",
              "      <td>02:45:43</td>\n",
              "      <td>03:05:43</td>\n",
              "    </tr>\n",
              "    <tr>\n",
              "      <th>2</th>\n",
              "      <td>01/01/2013</td>\n",
              "      <td>North Strand</td>\n",
              "      <td>S/S RTA</td>\n",
              "      <td>03:35:24</td>\n",
              "      <td>03:36:14</td>\n",
              "      <td>03:38:28</td>\n",
              "      <td>03:41:20</td>\n",
              "      <td>03:51:20</td>\n",
              "      <td>04:11:20</td>\n",
              "      <td>04:31:20</td>\n",
              "      <td>04:51:20</td>\n",
              "    </tr>\n",
              "    <tr>\n",
              "      <th>3</th>\n",
              "      <td>01/01/2013</td>\n",
              "      <td>Tallaght</td>\n",
              "      <td>Fire CAR</td>\n",
              "      <td>04:12:51</td>\n",
              "      <td>04:13:56</td>\n",
              "      <td>04:14:32</td>\n",
              "      <td>04:20:48</td>\n",
              "      <td>04:30:48</td>\n",
              "      <td>04:50:48</td>\n",
              "      <td>05:10:48</td>\n",
              "      <td>05:30:48</td>\n",
              "    </tr>\n",
              "    <tr>\n",
              "      <th>4</th>\n",
              "      <td>01/01/2013</td>\n",
              "      <td>Finglas</td>\n",
              "      <td>Fire DOM PER</td>\n",
              "      <td>04:14:24</td>\n",
              "      <td>04:15:36</td>\n",
              "      <td>04:17:37</td>\n",
              "      <td>04:20:47</td>\n",
              "      <td>04:30:47</td>\n",
              "      <td>04:50:47</td>\n",
              "      <td>05:10:47</td>\n",
              "      <td>05:30:47</td>\n",
              "    </tr>\n",
              "    <tr>\n",
              "      <th>...</th>\n",
              "      <td>...</td>\n",
              "      <td>...</td>\n",
              "      <td>...</td>\n",
              "      <td>...</td>\n",
              "      <td>...</td>\n",
              "      <td>...</td>\n",
              "      <td>...</td>\n",
              "      <td>...</td>\n",
              "      <td>...</td>\n",
              "      <td>...</td>\n",
              "      <td>...</td>\n",
              "    </tr>\n",
              "    <tr>\n",
              "      <th>38551</th>\n",
              "      <td>28/04/2018</td>\n",
              "      <td>Blanchardstown</td>\n",
              "      <td>Fire ALARM</td>\n",
              "      <td>23:57:36</td>\n",
              "      <td>23:59:00</td>\n",
              "      <td>00:01:09</td>\n",
              "      <td>00:09:30</td>\n",
              "      <td>00:19:30</td>\n",
              "      <td>NaN</td>\n",
              "      <td>00:20:00</td>\n",
              "      <td>00:40:00</td>\n",
              "    </tr>\n",
              "    <tr>\n",
              "      <th>38552</th>\n",
              "      <td>09/10/2018</td>\n",
              "      <td>Kilbarrack</td>\n",
              "      <td>Fire CAR</td>\n",
              "      <td>23:58:18</td>\n",
              "      <td>23:59:14</td>\n",
              "      <td>00:00:48</td>\n",
              "      <td>00:07:55</td>\n",
              "      <td>00:17:55</td>\n",
              "      <td>NaN</td>\n",
              "      <td>00:20:00</td>\n",
              "      <td>00:40:00</td>\n",
              "    </tr>\n",
              "    <tr>\n",
              "      <th>38553</th>\n",
              "      <td>07/06/2018</td>\n",
              "      <td>Skerries</td>\n",
              "      <td>Fire SMALL</td>\n",
              "      <td>23:56:49</td>\n",
              "      <td>23:59:23</td>\n",
              "      <td>00:00:41</td>\n",
              "      <td>00:19:49</td>\n",
              "      <td>00:29:49</td>\n",
              "      <td>NaN</td>\n",
              "      <td>-</td>\n",
              "      <td>-</td>\n",
              "    </tr>\n",
              "    <tr>\n",
              "      <th>38554</th>\n",
              "      <td>21/11/2018</td>\n",
              "      <td>Donnybrook</td>\n",
              "      <td>Fire ALARM</td>\n",
              "      <td>23:58:57</td>\n",
              "      <td>23:59:26</td>\n",
              "      <td>00:00:59</td>\n",
              "      <td>00:04:23</td>\n",
              "      <td>00:14:23</td>\n",
              "      <td>NaN</td>\n",
              "      <td>-</td>\n",
              "      <td>-</td>\n",
              "    </tr>\n",
              "    <tr>\n",
              "      <th>38555</th>\n",
              "      <td>01/01/2019</td>\n",
              "      <td>Kilbarrack</td>\n",
              "      <td>Fire ALARM</td>\n",
              "      <td>23:58:18</td>\n",
              "      <td>23:59:48</td>\n",
              "      <td>00:01:36</td>\n",
              "      <td>00:14:18</td>\n",
              "      <td>00:24:18</td>\n",
              "      <td>NaN</td>\n",
              "      <td>-</td>\n",
              "      <td>-</td>\n",
              "    </tr>\n",
              "  </tbody>\n",
              "</table>\n",
              "<p>38556 rows × 11 columns</p>\n",
              "</div>"
            ],
            "text/plain": [
              "             Date    Station Area   Description  ...        AH       MAV        CD\n",
              "0      01/01/2013     Rathfarnham     S/S OTHER  ...  02:28:54  02:48:54  03:08:54\n",
              "1      01/01/2013        Tallaght      Fire CAR  ...  02:25:43  02:45:43  03:05:43\n",
              "2      01/01/2013    North Strand       S/S RTA  ...  04:11:20  04:31:20  04:51:20\n",
              "3      01/01/2013        Tallaght      Fire CAR  ...  04:50:48  05:10:48  05:30:48\n",
              "4      01/01/2013         Finglas  Fire DOM PER  ...  04:50:47  05:10:47  05:30:47\n",
              "...           ...             ...           ...  ...       ...       ...       ...\n",
              "38551  28/04/2018  Blanchardstown    Fire ALARM  ...       NaN  00:20:00  00:40:00\n",
              "38552  09/10/2018      Kilbarrack      Fire CAR  ...       NaN  00:20:00  00:40:00\n",
              "38553  07/06/2018        Skerries    Fire SMALL  ...       NaN         -         -\n",
              "38554  21/11/2018      Donnybrook    Fire ALARM  ...       NaN         -         -\n",
              "38555  01/01/2019      Kilbarrack    Fire ALARM  ...       NaN         -         -\n",
              "\n",
              "[38556 rows x 11 columns]"
            ]
          },
          "metadata": {
            "tags": []
          }
        }
      ]
    },
    {
      "cell_type": "code",
      "metadata": {
        "colab": {
          "base_uri": "https://localhost:8080/"
        },
        "id": "XcBAyWYJb2Ko",
        "outputId": "6c837043-3604-49e1-9928-e67a0b4a3f6b"
      },
      "source": [
        "## Output the total number of rows and columns ##\n",
        "\n",
        "# fetching the number of rows and columns\n",
        "rows = df.shape[0]\n",
        "cols = df.shape[1]\n",
        "  \n",
        "# displaying the number of rows and columns\n",
        "print(\"Rows: \" + str(rows))\n",
        "print(\"Columns: \" + str(cols))"
      ],
      "execution_count": 74,
      "outputs": [
        {
          "output_type": "stream",
          "text": [
            "Rows: 38556\n",
            "Columns: 11\n"
          ],
          "name": "stdout"
        }
      ]
    },
    {
      "cell_type": "code",
      "metadata": {
        "colab": {
          "base_uri": "https://localhost:8080/"
        },
        "id": "bSHpt1fzgAY2",
        "outputId": "1c6ed574-d69a-4726-c834-6c1754f22796"
      },
      "source": [
        "# Count of not null value \n",
        "print(\"Output the number of non-null rows (by column)\")\n",
        "Not_Null= df.notnull().sum()\n",
        "print(Not_Null)\n",
        "\n",
        "# Count of null value \n",
        "print(\"\\nOutput the number of null values (by column)\")\n",
        "Null = df.isnull().sum()\n",
        "print(Null)\n",
        "# Count of all null value \n",
        "print(\"\\nOutput the number of null values for all columns\")\n",
        "All_Null=df.isnull().sum().sum()\n",
        "print(All_Null)"
      ],
      "execution_count": 75,
      "outputs": [
        {
          "output_type": "stream",
          "text": [
            "Output the number of non-null rows (by column)\n",
            "Date            38556\n",
            "Station Area    38556\n",
            "Description     38556\n",
            "TOC             38556\n",
            "ORD             38556\n",
            "MOB             37311\n",
            "IA              30962\n",
            "LS              38556\n",
            "AH                153\n",
            "MAV             38530\n",
            "CD              38530\n",
            "dtype: int64\n",
            "\n",
            "Output the number of null values (by column)\n",
            "Date                0\n",
            "Station Area        0\n",
            "Description         0\n",
            "TOC                 0\n",
            "ORD                 0\n",
            "MOB              1245\n",
            "IA               7594\n",
            "LS                  0\n",
            "AH              38403\n",
            "MAV                26\n",
            "CD                 26\n",
            "dtype: int64\n",
            "\n",
            "Output the number of null values for all columns\n",
            "47294\n"
          ],
          "name": "stdout"
        }
      ]
    },
    {
      "cell_type": "code",
      "metadata": {
        "colab": {
          "base_uri": "https://localhost:8080/"
        },
        "id": "v09aIHKBUjzd",
        "outputId": "fd2f02f4-4710-4828-e0b9-455011d11853"
      },
      "source": [
        "# Output the total number of call outs by Station Area\n",
        "Station_Area=df['Station Area'].value_counts()\n",
        "print(Station_Area)\n"
      ],
      "execution_count": 76,
      "outputs": [
        {
          "output_type": "stream",
          "text": [
            "Tallaght          6525\n",
            "Dolphins Barn     4018\n",
            "Tara St           3600\n",
            "Kilbarrack        3548\n",
            "Dun Laoghaire     3271\n",
            "Phibsborough      3160\n",
            "Finglas           3030\n",
            "Swords            2614\n",
            "Rathfarnham       2129\n",
            "Blanchardstown    2089\n",
            "Donnybrook        1787\n",
            "North Strand      1645\n",
            "Balbriggan         688\n",
            "Skerries           449\n",
            "Dunshaughlin         2\n",
            "MH14                 1\n",
            "Name: Station Area, dtype: int64\n"
          ],
          "name": "stdout"
        }
      ]
    },
    {
      "cell_type": "code",
      "metadata": {
        "colab": {
          "base_uri": "https://localhost:8080/"
        },
        "id": "VVE54t-LVYCt",
        "outputId": "f0ac46ab-f240-4e95-ef7c-6e66c85e5094"
      },
      "source": [
        "# Output the total number of call outs by Date and Station Area\n",
        "Date_Station=df.groupby(['Date', 'Station Area'])['Station Area'].count()\n",
        "print(Date_Station)  "
      ],
      "execution_count": 77,
      "outputs": [
        {
          "output_type": "stream",
          "text": [
            "Date        Station Area  \n",
            "01/01/2013  Balbriggan        3\n",
            "            Blanchardstown    1\n",
            "            Dolphins Barn     4\n",
            "            Donnybrook        1\n",
            "            Dun Laoghaire     3\n",
            "                             ..\n",
            "31/12/2015  Donnybrook        1\n",
            "            Dun Laoghaire     1\n",
            "            Finglas           3\n",
            "            North Strand      1\n",
            "            Tallaght          5\n",
            "Name: Station Area, Length: 12483, dtype: int64\n"
          ],
          "name": "stdout"
        }
      ]
    },
    {
      "cell_type": "code",
      "metadata": {
        "colab": {
          "base_uri": "https://localhost:8080/"
        },
        "id": "ih0770NsYsL2",
        "outputId": "4138eb54-a858-4437-fb08-bc255033e711"
      },
      "source": [
        "#Output the total number of call outs by Station Area and Date where \n",
        "#the description is either Fire Car or Fire Alarm.\n",
        "\n",
        "Date_Desc=df.where((df['Description']=='Fire CAR') | (df['Description']=='Fire ALARM'))\n",
        "Date_Desc.dropna(inplace=True)\n",
        "print(Date_Desc.groupby(['Date', 'Description', 'Station Area'])[[\"Station Area\"]].count())\n",
        "\n"
      ],
      "execution_count": 78,
      "outputs": [
        {
          "output_type": "stream",
          "text": [
            "                                       Station Area\n",
            "Date       Description Station Area                \n",
            "01/01/2013 Fire ALARM  Balbriggan                 1\n",
            "                       Dun Laoghaire              1\n",
            "                       Kilbarrack                 1\n",
            "                       Tallaght                   1\n",
            "           Fire CAR    Balbriggan                 1\n",
            "                       Blanchardstown             1\n",
            "                       Kilbarrack                 1\n",
            "                       Tallaght                   3\n",
            "02/01/2013 Fire ALARM  Dolphins Barn              1\n",
            "                       Finglas                    1\n",
            "                       Swords                     1\n",
            "           Fire CAR    Finglas                    1\n",
            "                       Tallaght                   1\n",
            "03/01/2013 Fire ALARM  Donnybrook                 2\n",
            "                       Finglas                    1\n",
            "                       North Strand               1\n",
            "                       Phibsborough               1\n",
            "                       Swords                     1\n",
            "                       Tara St                    1\n",
            "           Fire CAR    Dolphins Barn              1\n",
            "05/01/2013 Fire ALARM  Donnybrook                 1\n",
            "                       Dun Laoghaire              1\n",
            "                       Kilbarrack                 1\n",
            "                       Phibsborough               1\n",
            "           Fire CAR    North Strand               1\n",
            "                       Tallaght                   1\n",
            "06/01/2013 Fire CAR    Blanchardstown             1\n"
          ],
          "name": "stdout"
        }
      ]
    },
    {
      "cell_type": "code",
      "metadata": {
        "colab": {
          "base_uri": "https://localhost:8080/"
        },
        "id": "WU9KTNVi1EC5",
        "outputId": "3e227eff-1ccf-49f1-fd41-bfd51a49ad6c"
      },
      "source": [
        "# Replace any instance of “,” (in any column) with an empty string.\n",
        "# Count of  \",\" in each column\n",
        "print(\"\\nCount of ',' in each colum \") \n",
        "print((df == \",\").sum(axis=0))\n",
        "# Replacing value of , in all coloum because \",\" is present in more than one column\n",
        "df.replace({\",\": \" \"}, inplace=True)\n",
        "# Checking again Count of \",\" in each colum\n",
        "print(\"\\nChecking again Count of ',' in each colum \") \n",
        "print((df == \",\").sum(axis=0))\n",
        "\n"
      ],
      "execution_count": 79,
      "outputs": [
        {
          "output_type": "stream",
          "text": [
            "\n",
            "Count of ',' in each colum \n",
            "Date            0\n",
            "Station Area    0\n",
            "Description     0\n",
            "TOC             0\n",
            "ORD             0\n",
            "MOB             0\n",
            "IA              0\n",
            "LS              0\n",
            "AH              5\n",
            "MAV             9\n",
            "CD              9\n",
            "dtype: int64\n",
            "\n",
            "Checking again Count of ',' in each colum \n",
            "Date            0\n",
            "Station Area    0\n",
            "Description     0\n",
            "TOC             0\n",
            "ORD             0\n",
            "MOB             0\n",
            "IA              0\n",
            "LS              0\n",
            "AH              0\n",
            "MAV             0\n",
            "CD              0\n",
            "dtype: int64\n"
          ],
          "name": "stdout"
        }
      ]
    },
    {
      "cell_type": "code",
      "metadata": {
        "colab": {
          "base_uri": "https://localhost:8080/",
          "height": 872
        },
        "id": "ikm7_FUR-INa",
        "outputId": "c56a4353-c430-4f96-bb7c-01b2e0850f09"
      },
      "source": [
        "# Replace any instance of “-” (in any column) with an empty string.\n",
        "# Count of  \"-\" in each column\n",
        "print(\"\\nCount of '-' in each colum \")\n",
        "print((df == \"-\").sum(axis=0))\n",
        "# Replacing value of \"-\" in all coloum because \"-\" is present in more than one column\n",
        "df.replace({\"-\": \" \"}, inplace=True)\n",
        "# Checking again Count of \"-\" in each colum \n",
        "print(\"\\nChecking again Count of '-' in each colum \") \n",
        "print((df == \"-\").sum(axis=0))\n",
        "\n",
        "df"
      ],
      "execution_count": 80,
      "outputs": [
        {
          "output_type": "stream",
          "text": [
            "\n",
            "Count of '-' in each colum \n",
            "Date            0\n",
            "Station Area    0\n",
            "Description     0\n",
            "TOC             0\n",
            "ORD             0\n",
            "MOB             0\n",
            "IA              0\n",
            "LS              0\n",
            "AH              0\n",
            "MAV             3\n",
            "CD              3\n",
            "dtype: int64\n",
            "\n",
            "Checking again Count of '-' in each colum \n",
            "Date            0\n",
            "Station Area    0\n",
            "Description     0\n",
            "TOC             0\n",
            "ORD             0\n",
            "MOB             0\n",
            "IA              0\n",
            "LS              0\n",
            "AH              0\n",
            "MAV             0\n",
            "CD              0\n",
            "dtype: int64\n"
          ],
          "name": "stdout"
        },
        {
          "output_type": "execute_result",
          "data": {
            "text/html": [
              "<div>\n",
              "<style scoped>\n",
              "    .dataframe tbody tr th:only-of-type {\n",
              "        vertical-align: middle;\n",
              "    }\n",
              "\n",
              "    .dataframe tbody tr th {\n",
              "        vertical-align: top;\n",
              "    }\n",
              "\n",
              "    .dataframe thead th {\n",
              "        text-align: right;\n",
              "    }\n",
              "</style>\n",
              "<table border=\"1\" class=\"dataframe\">\n",
              "  <thead>\n",
              "    <tr style=\"text-align: right;\">\n",
              "      <th></th>\n",
              "      <th>Date</th>\n",
              "      <th>Station Area</th>\n",
              "      <th>Description</th>\n",
              "      <th>TOC</th>\n",
              "      <th>ORD</th>\n",
              "      <th>MOB</th>\n",
              "      <th>IA</th>\n",
              "      <th>LS</th>\n",
              "      <th>AH</th>\n",
              "      <th>MAV</th>\n",
              "      <th>CD</th>\n",
              "    </tr>\n",
              "  </thead>\n",
              "  <tbody>\n",
              "    <tr>\n",
              "      <th>0</th>\n",
              "      <td>01/01/2013</td>\n",
              "      <td>Rathfarnham</td>\n",
              "      <td>S/S OTHER</td>\n",
              "      <td>01:27:19</td>\n",
              "      <td>01:28:58</td>\n",
              "      <td>01:30:47</td>\n",
              "      <td>01:58:54</td>\n",
              "      <td>02:08:54</td>\n",
              "      <td>02:28:54</td>\n",
              "      <td>02:48:54</td>\n",
              "      <td>03:08:54</td>\n",
              "    </tr>\n",
              "    <tr>\n",
              "      <th>1</th>\n",
              "      <td>01/01/2013</td>\n",
              "      <td>Tallaght</td>\n",
              "      <td>Fire CAR</td>\n",
              "      <td>01:49:57</td>\n",
              "      <td>01:50:40</td>\n",
              "      <td>01:51:47</td>\n",
              "      <td>01:55:43</td>\n",
              "      <td>02:05:43</td>\n",
              "      <td>02:25:43</td>\n",
              "      <td>02:45:43</td>\n",
              "      <td>03:05:43</td>\n",
              "    </tr>\n",
              "    <tr>\n",
              "      <th>2</th>\n",
              "      <td>01/01/2013</td>\n",
              "      <td>North Strand</td>\n",
              "      <td>S/S RTA</td>\n",
              "      <td>03:35:24</td>\n",
              "      <td>03:36:14</td>\n",
              "      <td>03:38:28</td>\n",
              "      <td>03:41:20</td>\n",
              "      <td>03:51:20</td>\n",
              "      <td>04:11:20</td>\n",
              "      <td>04:31:20</td>\n",
              "      <td>04:51:20</td>\n",
              "    </tr>\n",
              "    <tr>\n",
              "      <th>3</th>\n",
              "      <td>01/01/2013</td>\n",
              "      <td>Tallaght</td>\n",
              "      <td>Fire CAR</td>\n",
              "      <td>04:12:51</td>\n",
              "      <td>04:13:56</td>\n",
              "      <td>04:14:32</td>\n",
              "      <td>04:20:48</td>\n",
              "      <td>04:30:48</td>\n",
              "      <td>04:50:48</td>\n",
              "      <td>05:10:48</td>\n",
              "      <td>05:30:48</td>\n",
              "    </tr>\n",
              "    <tr>\n",
              "      <th>4</th>\n",
              "      <td>01/01/2013</td>\n",
              "      <td>Finglas</td>\n",
              "      <td>Fire DOM PER</td>\n",
              "      <td>04:14:24</td>\n",
              "      <td>04:15:36</td>\n",
              "      <td>04:17:37</td>\n",
              "      <td>04:20:47</td>\n",
              "      <td>04:30:47</td>\n",
              "      <td>04:50:47</td>\n",
              "      <td>05:10:47</td>\n",
              "      <td>05:30:47</td>\n",
              "    </tr>\n",
              "    <tr>\n",
              "      <th>...</th>\n",
              "      <td>...</td>\n",
              "      <td>...</td>\n",
              "      <td>...</td>\n",
              "      <td>...</td>\n",
              "      <td>...</td>\n",
              "      <td>...</td>\n",
              "      <td>...</td>\n",
              "      <td>...</td>\n",
              "      <td>...</td>\n",
              "      <td>...</td>\n",
              "      <td>...</td>\n",
              "    </tr>\n",
              "    <tr>\n",
              "      <th>38551</th>\n",
              "      <td>28/04/2018</td>\n",
              "      <td>Blanchardstown</td>\n",
              "      <td>Fire ALARM</td>\n",
              "      <td>23:57:36</td>\n",
              "      <td>23:59:00</td>\n",
              "      <td>00:01:09</td>\n",
              "      <td>00:09:30</td>\n",
              "      <td>00:19:30</td>\n",
              "      <td>NaN</td>\n",
              "      <td>00:20:00</td>\n",
              "      <td>00:40:00</td>\n",
              "    </tr>\n",
              "    <tr>\n",
              "      <th>38552</th>\n",
              "      <td>09/10/2018</td>\n",
              "      <td>Kilbarrack</td>\n",
              "      <td>Fire CAR</td>\n",
              "      <td>23:58:18</td>\n",
              "      <td>23:59:14</td>\n",
              "      <td>00:00:48</td>\n",
              "      <td>00:07:55</td>\n",
              "      <td>00:17:55</td>\n",
              "      <td>NaN</td>\n",
              "      <td>00:20:00</td>\n",
              "      <td>00:40:00</td>\n",
              "    </tr>\n",
              "    <tr>\n",
              "      <th>38553</th>\n",
              "      <td>07/06/2018</td>\n",
              "      <td>Skerries</td>\n",
              "      <td>Fire SMALL</td>\n",
              "      <td>23:56:49</td>\n",
              "      <td>23:59:23</td>\n",
              "      <td>00:00:41</td>\n",
              "      <td>00:19:49</td>\n",
              "      <td>00:29:49</td>\n",
              "      <td>NaN</td>\n",
              "      <td></td>\n",
              "      <td></td>\n",
              "    </tr>\n",
              "    <tr>\n",
              "      <th>38554</th>\n",
              "      <td>21/11/2018</td>\n",
              "      <td>Donnybrook</td>\n",
              "      <td>Fire ALARM</td>\n",
              "      <td>23:58:57</td>\n",
              "      <td>23:59:26</td>\n",
              "      <td>00:00:59</td>\n",
              "      <td>00:04:23</td>\n",
              "      <td>00:14:23</td>\n",
              "      <td>NaN</td>\n",
              "      <td></td>\n",
              "      <td></td>\n",
              "    </tr>\n",
              "    <tr>\n",
              "      <th>38555</th>\n",
              "      <td>01/01/2019</td>\n",
              "      <td>Kilbarrack</td>\n",
              "      <td>Fire ALARM</td>\n",
              "      <td>23:58:18</td>\n",
              "      <td>23:59:48</td>\n",
              "      <td>00:01:36</td>\n",
              "      <td>00:14:18</td>\n",
              "      <td>00:24:18</td>\n",
              "      <td>NaN</td>\n",
              "      <td></td>\n",
              "      <td></td>\n",
              "    </tr>\n",
              "  </tbody>\n",
              "</table>\n",
              "<p>38556 rows × 11 columns</p>\n",
              "</div>"
            ],
            "text/plain": [
              "             Date    Station Area   Description  ...        AH       MAV        CD\n",
              "0      01/01/2013     Rathfarnham     S/S OTHER  ...  02:28:54  02:48:54  03:08:54\n",
              "1      01/01/2013        Tallaght      Fire CAR  ...  02:25:43  02:45:43  03:05:43\n",
              "2      01/01/2013    North Strand       S/S RTA  ...  04:11:20  04:31:20  04:51:20\n",
              "3      01/01/2013        Tallaght      Fire CAR  ...  04:50:48  05:10:48  05:30:48\n",
              "4      01/01/2013         Finglas  Fire DOM PER  ...  04:50:47  05:10:47  05:30:47\n",
              "...           ...             ...           ...  ...       ...       ...       ...\n",
              "38551  28/04/2018  Blanchardstown    Fire ALARM  ...       NaN  00:20:00  00:40:00\n",
              "38552  09/10/2018      Kilbarrack      Fire CAR  ...       NaN  00:20:00  00:40:00\n",
              "38553  07/06/2018        Skerries    Fire SMALL  ...       NaN                    \n",
              "38554  21/11/2018      Donnybrook    Fire ALARM  ...       NaN                    \n",
              "38555  01/01/2019      Kilbarrack    Fire ALARM  ...       NaN                    \n",
              "\n",
              "[38556 rows x 11 columns]"
            ]
          },
          "metadata": {
            "tags": []
          },
          "execution_count": 80
        }
      ]
    },
    {
      "cell_type": "code",
      "metadata": {
        "id": "sQPu7eI4KqWN"
      },
      "source": [
        "# Drop rows for the columns (AH, MAV, CD) where at least one row value is NULL.\n",
        "\n",
        "df.dropna(subset=['CD','MAV','AH'], inplace=True)"
      ],
      "execution_count": 81,
      "outputs": []
    },
    {
      "cell_type": "code",
      "metadata": {
        "id": "6b8Z2stf-I8e",
        "colab": {
          "base_uri": "https://localhost:8080/"
        },
        "outputId": "e1d59634-1b84-4f24-9051-305c149125e1"
      },
      "source": [
        "# To delete all duplicate value \n",
        "\n",
        "df.drop_duplicates(inplace=True)\n",
        "df.shape"
      ],
      "execution_count": 82,
      "outputs": [
        {
          "output_type": "execute_result",
          "data": {
            "text/plain": [
              "(152, 11)"
            ]
          },
          "metadata": {
            "tags": []
          },
          "execution_count": 82
        }
      ]
    },
    {
      "cell_type": "code",
      "metadata": {
        "colab": {
          "base_uri": "https://localhost:8080/"
        },
        "id": "8nj7HxKbW4sD",
        "outputId": "fa7d7ef5-b8bd-4e72-d47a-fbc7dffa891b"
      },
      "source": [
        "# Output the minimum time difference between TOC and ORD.\n",
        "import datetime\n",
        "print((pd.to_datetime(df.ORD, format='%H:%M:%S') - pd.to_datetime(df.TOC, format='%H:%M:%S')).min())"
      ],
      "execution_count": 83,
      "outputs": [
        {
          "output_type": "stream",
          "text": [
            "0 days 00:00:30\n"
          ],
          "name": "stdout"
        }
      ]
    },
    {
      "cell_type": "markdown",
      "metadata": {
        "id": "rVjWTR7s42c0"
      },
      "source": [
        "**Azure Connection and inserting final CSV file**"
      ]
    },
    {
      "cell_type": "code",
      "metadata": {
        "id": "7XkeivfMk5DK"
      },
      "source": [
        "!pip install pypyodbc\n",
        "import pypyodbc"
      ],
      "execution_count": null,
      "outputs": []
    },
    {
      "cell_type": "code",
      "metadata": {
        "colab": {
          "base_uri": "https://localhost:8080/"
        },
        "id": "0F9EZUlG1RM5",
        "outputId": "3b7cbaa7-abdb-45cb-ee46-bdb36cc38641"
      },
      "source": [
        "%%sh\n",
        "curl https://packages.microsoft.com/keys/microsoft.asc | apt-key add -\n",
        "curl https://packages.microsoft.com/config/ubuntu/16.04/prod.list > /etc/apt/sources.list.d/mssql-release.list\n",
        "sudo apt-get update\n",
        "sudo ACCEPT_EULA=Y apt-get -q -y install msodbcsql17"
      ],
      "execution_count": 106,
      "outputs": [
        {
          "output_type": "stream",
          "text": [
            "OK\n",
            "Ign:1 https://developer.download.nvidia.com/compute/cuda/repos/ubuntu1804/x86_64  InRelease\n",
            "Hit:2 https://cloud.r-project.org/bin/linux/ubuntu bionic-cran40/ InRelease\n",
            "Ign:3 https://developer.download.nvidia.com/compute/machine-learning/repos/ubuntu1804/x86_64  InRelease\n",
            "Hit:4 https://developer.download.nvidia.com/compute/cuda/repos/ubuntu1804/x86_64  Release\n",
            "Hit:5 https://packages.microsoft.com/ubuntu/16.04/prod xenial InRelease\n",
            "Hit:6 https://developer.download.nvidia.com/compute/machine-learning/repos/ubuntu1804/x86_64  Release\n",
            "Get:7 http://security.ubuntu.com/ubuntu bionic-security InRelease [88.7 kB]\n",
            "Hit:9 http://archive.ubuntu.com/ubuntu bionic InRelease\n",
            "Hit:10 http://ppa.launchpad.net/c2d4u.team/c2d4u4.0+/ubuntu bionic InRelease\n",
            "Get:12 http://archive.ubuntu.com/ubuntu bionic-updates InRelease [88.7 kB]\n",
            "Hit:13 http://ppa.launchpad.net/cran/libgit2/ubuntu bionic InRelease\n",
            "Hit:14 http://ppa.launchpad.net/deadsnakes/ppa/ubuntu bionic InRelease\n",
            "Get:15 http://archive.ubuntu.com/ubuntu bionic-backports InRelease [74.6 kB]\n",
            "Hit:16 http://ppa.launchpad.net/graphics-drivers/ppa/ubuntu bionic InRelease\n",
            "Fetched 252 kB in 1s (189 kB/s)\n",
            "Reading package lists...\n",
            "Reading package lists...\n",
            "Building dependency tree...\n",
            "Reading state information...\n",
            "msodbcsql17 is already the newest version (17.7.2.1-1).\n",
            "The following package was automatically installed and is no longer required:\n",
            "  libnvidia-common-460\n",
            "Use 'sudo apt autoremove' to remove it.\n",
            "0 upgraded, 0 newly installed, 0 to remove and 36 not upgraded.\n"
          ],
          "name": "stdout"
        },
        {
          "output_type": "stream",
          "text": [
            "  % Total    % Received % Xferd  Average Speed   Time    Time     Time  Current\n",
            "                                 Dload  Upload   Total   Spent    Left  Speed\n",
            "\r  0     0    0     0    0     0      0      0 --:--:-- --:--:-- --:--:--     0Warning: apt-key output should not be parsed (stdout is not a terminal)\n",
            "\r100   983  100   983    0     0   2960      0 --:--:-- --:--:-- --:--:--  2960\n",
            "  % Total    % Received % Xferd  Average Speed   Time    Time     Time  Current\n",
            "                                 Dload  Upload   Total   Spent    Left  Speed\n",
            "\r  0     0    0     0    0     0      0      0 --:--:-- --:--:-- --:--:--     0\r100    79  100    79    0     0    951      0 --:--:-- --:--:-- --:--:--   951\n"
          ],
          "name": "stderr"
        }
      ]
    },
    {
      "cell_type": "code",
      "metadata": {
        "id": "MgdPPRXDlv4Z"
      },
      "source": [
        "#Establishing connection\n",
        "connection = pypyodbc.connect('Driver={ODBC Driver 17 for SQL Server};Server=tcp:jayant.database.windows.net,1433;Database=FireBrigade;Uid=jayant;Pwd=dbs@10559429;Encrypt=yes;TrustServerCertificate=no;Connection Timeout=30;')"
      ],
      "execution_count": 107,
      "outputs": []
    },
    {
      "cell_type": "code",
      "metadata": {
        "id": "eu0NTrNh7uzd"
      },
      "source": [
        "cursor=connection.cursor()"
      ],
      "execution_count": 108,
      "outputs": []
    },
    {
      "cell_type": "code",
      "metadata": {
        "id": "vAi6qmQbDMJD"
      },
      "source": [
        "# Removing space in colum name \n",
        "df_new = df.rename(columns={'Station Area': 'Station_Area'})\n",
        "cursor=connection.cursor()\n",
        "df_new = df_new.fillna(value='')\n",
        "# Inserting data in sql database \n",
        "for index, row in df_new.iterrows():\n",
        "  Values = [row.Date,row.Station_Area,row.Description,row.TOC,row.ORD,row.MOB,row.IA,row.LS,row.AH,row.MAV,row.CD]\n",
        "  cursor.execute(\"INSERT INTO FireBrigade (Date,Station_Area,Description,TOC,ORD,MOB,IA,LS,AH,MAV,CD) values(?,?,?,?,?,?,?,?,?,?,?)\", Values)\n",
        "connection.commit()\n",
        "cursor.close()\n"
      ],
      "execution_count": 111,
      "outputs": []
    },
    {
      "cell_type": "markdown",
      "metadata": {
        "id": "ik8rlOgh6VjD"
      },
      "source": [
        "**Test 1**"
      ]
    },
    {
      "cell_type": "code",
      "metadata": {
        "id": "tjumHNH_07Fl",
        "colab": {
          "base_uri": "https://localhost:8080/"
        },
        "outputId": "52b4eb07-b8ce-4b26-9834-284b1f370ab2"
      },
      "source": [
        "#   Output the total number of callout by station area\n",
        "print(\"### Using SQL ###\")\n",
        "sql1 = \"SELECT Station_Area,COUNT(*) as callout FROM FireBrigade group by Station_Area order by callout desc;\"\n",
        "print(pd.read_sql(sql1, connection))\n",
        "\n",
        "print(\"### Using Pandas ###\")\n",
        "test1=df_new['Station_Area'].value_counts()\n",
        "print(test1)\n",
        " "
      ],
      "execution_count": 112,
      "outputs": [
        {
          "output_type": "stream",
          "text": [
            "### Using SQL ###\n",
            "      station_area  callout\n",
            "0         Tallaght       30\n",
            "1    Dun Laoghaire       21\n",
            "2       Kilbarrack       17\n",
            "3    Dolphins Barn       15\n",
            "4          Finglas       12\n",
            "5       Donnybrook        9\n",
            "6          Tara St        9\n",
            "7     Phibsborough        9\n",
            "8           Swords        8\n",
            "9   Blanchardstown        6\n",
            "10      Balbriggan        5\n",
            "11    North Strand        5\n",
            "12     Rathfarnham        5\n",
            "13        Skerries        1\n",
            "### Using Pandas ###\n",
            "Tallaght          30\n",
            "Dun Laoghaire     21\n",
            "Kilbarrack        17\n",
            "Dolphins Barn     15\n",
            "Finglas           12\n",
            "Phibsborough       9\n",
            "Tara St            9\n",
            "Donnybrook         9\n",
            "Swords             8\n",
            "Blanchardstown     6\n",
            "Rathfarnham        5\n",
            "Balbriggan         5\n",
            "North Strand       5\n",
            "Skerries           1\n",
            "Name: Station_Area, dtype: int64\n"
          ],
          "name": "stdout"
        }
      ]
    },
    {
      "cell_type": "markdown",
      "metadata": {
        "id": "16Wi4e3g-yiz"
      },
      "source": [
        "**Test 2**"
      ]
    },
    {
      "cell_type": "code",
      "metadata": {
        "id": "xu7xPirTGQQ4",
        "colab": {
          "base_uri": "https://localhost:8080/"
        },
        "outputId": "d3cf9b55-8c23-460a-b5cd-c0f88737c61c"
      },
      "source": [
        "# Output the total number of call outs by Date and Station Area.(first 10 value)\n",
        "print(\"### Using SQL ###\")\n",
        "sql2 = \"SELECT top 10 date,Station_Area,COUNT(*) as callout FROM FireBrigade group by Station_Area,date;\"\n",
        "print(pd.read_sql(sql2, connection))\n",
        "\n",
        "print(\"### Using Pandas ###\")\n",
        "test2=df_new.groupby(['Date', 'Station_Area'])['Station_Area'].count()\n",
        "print(test2.head(10))  \n"
      ],
      "execution_count": 118,
      "outputs": [
        {
          "output_type": "stream",
          "text": [
            "### Using SQL ###\n",
            "         date    station_area  callout\n",
            "0  01/01/2013      Balbriggan        3\n",
            "1  01/01/2013  Blanchardstown        1\n",
            "2  01/01/2013   Dolphins Barn        4\n",
            "3  01/01/2013      Donnybrook        1\n",
            "4  01/01/2013   Dun Laoghaire        3\n",
            "5  01/01/2013         Finglas        2\n",
            "6  01/01/2013      Kilbarrack        4\n",
            "7  01/01/2013    North Strand        1\n",
            "8  01/01/2013    Phibsborough        1\n",
            "9  01/01/2013     Rathfarnham        1\n",
            "### Using Pandas ###\n",
            "Date        Station_Area  \n",
            "01/01/2013  Balbriggan        3\n",
            "            Blanchardstown    1\n",
            "            Dolphins Barn     4\n",
            "            Donnybrook        1\n",
            "            Dun Laoghaire     3\n",
            "            Finglas           2\n",
            "            Kilbarrack        4\n",
            "            North Strand      1\n",
            "            Phibsborough      1\n",
            "            Rathfarnham       1\n",
            "Name: Station_Area, dtype: int64\n"
          ],
          "name": "stdout"
        }
      ]
    },
    {
      "cell_type": "markdown",
      "metadata": {
        "id": "Vu3PHtRhIdhI"
      },
      "source": [
        "**Test 3**"
      ]
    },
    {
      "cell_type": "code",
      "metadata": {
        "colab": {
          "base_uri": "https://localhost:8080/"
        },
        "id": "bpRcgkxGHOnJ",
        "outputId": "b1ac3802-7279-4f66-dada-050323ca9e15"
      },
      "source": [
        "# Output the total number of call outs by Station Area and Date where the description is either Fire Car or Fire Alarm.(first 10 value)\n",
        "print(\"### Using SQL ###\")\n",
        "sql3 = \"SELECT top 10 date,description,Station_Area,COUNT(*) as callout FROM FireBrigade where description ='Fire CAR' or  description ='Fire ALARM ' group by date,description,Station_Area;\"\n",
        "print(pd.read_sql(sql3, connection))\n",
        "\n",
        "print(\"### Using Pandas ###\")\n",
        "test3=df_new.where((df_new['Description']=='Fire CAR') | (df_new['Description']=='Fire ALARM'))\n",
        "test3.dropna(inplace=True)\n",
        "test3=test3.groupby(['Date', 'Description', 'Station_Area'])[[\"Station_Area\"]].count()\n",
        "print(test3.head(10))\n",
        "\n"
      ],
      "execution_count": 119,
      "outputs": [
        {
          "output_type": "stream",
          "text": [
            "### Using SQL ###\n",
            "         date description    station_area  callout\n",
            "0  01/01/2013  Fire ALARM      Balbriggan        2\n",
            "1  01/01/2013  Fire ALARM   Dun Laoghaire        1\n",
            "2  01/01/2013  Fire ALARM      Kilbarrack        1\n",
            "3  01/01/2013  Fire ALARM        Tallaght        1\n",
            "4  01/01/2013  Fire ALARM         Tara St        1\n",
            "5  01/01/2013    Fire CAR      Balbriggan        1\n",
            "6  01/01/2013    Fire CAR  Blanchardstown        1\n",
            "7  01/01/2013    Fire CAR      Kilbarrack        1\n",
            "8  01/01/2013    Fire CAR        Tallaght        3\n",
            "9  02/01/2013  Fire ALARM   Dolphins Barn        1\n",
            "### Using Pandas ###\n",
            "                                       Station_Area\n",
            "Date       Description Station_Area                \n",
            "01/01/2013 Fire ALARM  Balbriggan                 2\n",
            "                       Dun Laoghaire              1\n",
            "                       Kilbarrack                 1\n",
            "                       Tallaght                   1\n",
            "                       Tara St                    1\n",
            "           Fire CAR    Balbriggan                 1\n",
            "                       Blanchardstown             1\n",
            "                       Kilbarrack                 1\n",
            "                       Tallaght                   3\n",
            "02/01/2013 Fire ALARM  Dolphins Barn              1\n"
          ],
          "name": "stdout"
        }
      ]
    },
    {
      "cell_type": "markdown",
      "metadata": {
        "id": "5a491RBZIwT6"
      },
      "source": [
        "**Test 4**"
      ]
    },
    {
      "cell_type": "code",
      "metadata": {
        "id": "-Uv_cimUIcBj",
        "colab": {
          "base_uri": "https://localhost:8080/"
        },
        "outputId": "9d0a02e4-e2dd-406c-d377-fa06921649a1"
      },
      "source": [
        "# Count of ',' in each colum \n",
        "print(\"##################### Using SQL ##################\")\n",
        "sql4 = \"select * from dbo.FireBrigade where Date LIKE ',' OR Station_Area LIKE ',' OR Description LIKE ',' OR TOC LIKE ',' OR ORD LIKE ',' OR MOB LIKE ',' OR IA LIKE ',' OR LS LIKE ',' OR AH LIKE ',' OR MAV LIKE ',' OR CD LIKE ','\"\n",
        "print(pd.read_sql(sql4, connection))\n",
        "\n",
        "print(\"##################### Using Pandas ##################\")\n",
        "print((df_new == \",\").sum())"
      ],
      "execution_count": 93,
      "outputs": [
        {
          "output_type": "stream",
          "text": [
            "##################### Using SQL ##################\n",
            "Empty DataFrame\n",
            "Columns: [date, station_area, description, toc, ord, mob, ia, ls, ah, mav, cd]\n",
            "Index: []\n",
            "##################### Using Pandas ##################\n",
            "Date            0\n",
            "Station_Area    0\n",
            "Description     0\n",
            "TOC             0\n",
            "ORD             0\n",
            "MOB             0\n",
            "IA              0\n",
            "LS              0\n",
            "AH              0\n",
            "MAV             0\n",
            "CD              0\n",
            "dtype: int64\n"
          ],
          "name": "stdout"
        }
      ]
    },
    {
      "cell_type": "markdown",
      "metadata": {
        "id": "-Ki1XurfI2gA"
      },
      "source": [
        "**Test 5**"
      ]
    },
    {
      "cell_type": "code",
      "metadata": {
        "colab": {
          "base_uri": "https://localhost:8080/"
        },
        "id": "Jgy96d-vHZIN",
        "outputId": "236435e1-2b00-49be-ed57-be702cfb227b"
      },
      "source": [
        "# Count of '-' in each colum \n",
        "print(\"##################### Using SQL ##################\")\n",
        "sql5 = \"select * from dbo.FireBrigade where Date LIKE '-' OR Station_Area LIKE '-' OR Description LIKE '-' OR TOC LIKE '-' OR ORD LIKE '-' OR MOB LIKE '-' OR IA LIKE '-' OR LS LIKE '-' OR AH LIKE '-' OR MAV LIKE '-' OR CD LIKE '-'\"\n",
        "print(pd.read_sql(sql5,connection))\n",
        "\n",
        "print(\"##################### Using Pandas ##################\")\n",
        "print((df_new == \"-\").sum())"
      ],
      "execution_count": 94,
      "outputs": [
        {
          "output_type": "stream",
          "text": [
            "##################### Using SQL ##################\n",
            "Empty DataFrame\n",
            "Columns: [date, station_area, description, toc, ord, mob, ia, ls, ah, mav, cd]\n",
            "Index: []\n",
            "##################### Using Pandas ##################\n",
            "Date            0\n",
            "Station_Area    0\n",
            "Description     0\n",
            "TOC             0\n",
            "ORD             0\n",
            "MOB             0\n",
            "IA              0\n",
            "LS              0\n",
            "AH              0\n",
            "MAV             0\n",
            "CD              0\n",
            "dtype: int64\n"
          ],
          "name": "stdout"
        }
      ]
    },
    {
      "cell_type": "code",
      "metadata": {
        "id": "I5B2v4xmMPei"
      },
      "source": [
        "connection.close()"
      ],
      "execution_count": 104,
      "outputs": []
    }
  ]
}